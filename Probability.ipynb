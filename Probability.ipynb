{
 "cells": [
  {
   "cell_type": "code",
   "execution_count": 1,
   "id": "cf5034b0-c41a-4006-bfd3-5814c03cf2fc",
   "metadata": {},
   "outputs": [],
   "source": [
    "from os.path import basename, exists"
   ]
  },
  {
   "cell_type": "code",
   "execution_count": 2,
   "id": "557c70ac-ed59-453c-b219-bc6ab5b6e6c8",
   "metadata": {},
   "outputs": [
    {
     "name": "stdout",
     "output_type": "stream",
     "text": [
      "gss_bayes.csv\n"
     ]
    }
   ],
   "source": [
    "def download(url):\n",
    "    filename = basename(url)\n",
    "    if not exists(filename):\n",
    "        from urllib.request import urlretrieve\n",
    "        local, _ = urlretrieve(url, filename)\n",
    "        print(local)\n",
    "\n",
    "download('https://github.com/AllenDowney/ThinkBayes2/raw/master/data/gss_bayes.csv')"
   ]
  },
  {
   "cell_type": "code",
   "execution_count": 3,
   "id": "e0f682fd-a1f2-4e4b-b590-77a288093eb2",
   "metadata": {},
   "outputs": [
    {
     "data": {
      "text/html": [
       "<div>\n",
       "<style scoped>\n",
       "    .dataframe tbody tr th:only-of-type {\n",
       "        vertical-align: middle;\n",
       "    }\n",
       "\n",
       "    .dataframe tbody tr th {\n",
       "        vertical-align: top;\n",
       "    }\n",
       "\n",
       "    .dataframe thead th {\n",
       "        text-align: right;\n",
       "    }\n",
       "</style>\n",
       "<table border=\"1\" class=\"dataframe\">\n",
       "  <thead>\n",
       "    <tr style=\"text-align: right;\">\n",
       "      <th></th>\n",
       "      <th>caseid</th>\n",
       "      <th>year</th>\n",
       "      <th>age</th>\n",
       "      <th>sex</th>\n",
       "      <th>polviews</th>\n",
       "      <th>partyid</th>\n",
       "      <th>indus10</th>\n",
       "    </tr>\n",
       "  </thead>\n",
       "  <tbody>\n",
       "    <tr>\n",
       "      <th>0</th>\n",
       "      <td>1</td>\n",
       "      <td>1974</td>\n",
       "      <td>21.0</td>\n",
       "      <td>1</td>\n",
       "      <td>4.0</td>\n",
       "      <td>2.0</td>\n",
       "      <td>4970.0</td>\n",
       "    </tr>\n",
       "    <tr>\n",
       "      <th>1</th>\n",
       "      <td>2</td>\n",
       "      <td>1974</td>\n",
       "      <td>41.0</td>\n",
       "      <td>1</td>\n",
       "      <td>5.0</td>\n",
       "      <td>0.0</td>\n",
       "      <td>9160.0</td>\n",
       "    </tr>\n",
       "    <tr>\n",
       "      <th>2</th>\n",
       "      <td>5</td>\n",
       "      <td>1974</td>\n",
       "      <td>58.0</td>\n",
       "      <td>2</td>\n",
       "      <td>6.0</td>\n",
       "      <td>1.0</td>\n",
       "      <td>2670.0</td>\n",
       "    </tr>\n",
       "    <tr>\n",
       "      <th>3</th>\n",
       "      <td>6</td>\n",
       "      <td>1974</td>\n",
       "      <td>30.0</td>\n",
       "      <td>1</td>\n",
       "      <td>5.0</td>\n",
       "      <td>4.0</td>\n",
       "      <td>6870.0</td>\n",
       "    </tr>\n",
       "    <tr>\n",
       "      <th>4</th>\n",
       "      <td>7</td>\n",
       "      <td>1974</td>\n",
       "      <td>48.0</td>\n",
       "      <td>1</td>\n",
       "      <td>5.0</td>\n",
       "      <td>4.0</td>\n",
       "      <td>7860.0</td>\n",
       "    </tr>\n",
       "  </tbody>\n",
       "</table>\n",
       "</div>"
      ],
      "text/plain": [
       "   caseid  year   age  sex  polviews  partyid  indus10\n",
       "0       1  1974  21.0    1       4.0      2.0   4970.0\n",
       "1       2  1974  41.0    1       5.0      0.0   9160.0\n",
       "2       5  1974  58.0    2       6.0      1.0   2670.0\n",
       "3       6  1974  30.0    1       5.0      4.0   6870.0\n",
       "4       7  1974  48.0    1       5.0      4.0   7860.0"
      ]
     },
     "execution_count": 3,
     "metadata": {},
     "output_type": "execute_result"
    }
   ],
   "source": [
    "import pandas as pd\n",
    "\n",
    "gss = pd.read_csv('gss_bayes.csv')\n",
    "gss.head()"
   ]
  },
  {
   "cell_type": "code",
   "execution_count": 4,
   "id": "99049804-10b6-42c4-bf62-705d874da034",
   "metadata": {},
   "outputs": [],
   "source": [
    "banker = (gss['indus10'] == 6870)"
   ]
  },
  {
   "cell_type": "code",
   "execution_count": 6,
   "id": "dabfdc39-e286-4f19-8b37-952cbde0eab7",
   "metadata": {},
   "outputs": [
    {
     "data": {
      "text/plain": [
       "0    False\n",
       "1    False\n",
       "2    False\n",
       "3     True\n",
       "4    False\n",
       "Name: indus10, dtype: bool"
      ]
     },
     "execution_count": 6,
     "metadata": {},
     "output_type": "execute_result"
    }
   ],
   "source": [
    "banker.head()"
   ]
  },
  {
   "cell_type": "code",
   "execution_count": 7,
   "id": "52070c93-28a9-4a5f-9cc9-3146c956950d",
   "metadata": {},
   "outputs": [
    {
     "data": {
      "text/plain": [
       "np.int64(728)"
      ]
     },
     "execution_count": 7,
     "metadata": {},
     "output_type": "execute_result"
    }
   ],
   "source": [
    "banker.sum()"
   ]
  },
  {
   "cell_type": "code",
   "execution_count": 8,
   "id": "d4baa101-680e-4c5a-bc71-0f08c7c9423c",
   "metadata": {},
   "outputs": [
    {
     "data": {
      "text/plain": [
       "np.float64(0.014769730168391155)"
      ]
     },
     "execution_count": 8,
     "metadata": {},
     "output_type": "execute_result"
    }
   ],
   "source": [
    "banker.mean()"
   ]
  },
  {
   "cell_type": "code",
   "execution_count": 9,
   "id": "4b224fcc-df89-4d31-b93c-1d94930d6765",
   "metadata": {},
   "outputs": [],
   "source": [
    "def probability(A):\n",
    "    return A.mean()"
   ]
  },
  {
   "cell_type": "code",
   "execution_count": 10,
   "id": "aea8e836-5110-425f-a293-a34172971379",
   "metadata": {},
   "outputs": [
    {
     "data": {
      "text/plain": [
       "np.float64(0.014769730168391155)"
      ]
     },
     "execution_count": 10,
     "metadata": {},
     "output_type": "execute_result"
    }
   ],
   "source": [
    "probability(banker)"
   ]
  },
  {
   "cell_type": "code",
   "execution_count": 11,
   "id": "cf53f3a8-c541-47e3-bd48-b5be3e284c88",
   "metadata": {},
   "outputs": [
    {
     "data": {
      "text/plain": [
       "0    False\n",
       "1    False\n",
       "2     True\n",
       "3    False\n",
       "4    False\n",
       "Name: sex, dtype: bool"
      ]
     },
     "execution_count": 11,
     "metadata": {},
     "output_type": "execute_result"
    }
   ],
   "source": [
    "isFemale = (gss['sex'] == 2)\n",
    "isFemale.head()"
   ]
  },
  {
   "cell_type": "code",
   "execution_count": 12,
   "id": "1bdefbc1-53c7-4ff6-8b44-6cd52585ffa2",
   "metadata": {},
   "outputs": [
    {
     "data": {
      "text/plain": [
       "np.int64(26511)"
      ]
     },
     "execution_count": 12,
     "metadata": {},
     "output_type": "execute_result"
    }
   ],
   "source": [
    "isFemale.sum()"
   ]
  },
  {
   "cell_type": "code",
   "execution_count": 13,
   "id": "d37760be-67cc-4a52-8621-d70c3f4e8e36",
   "metadata": {},
   "outputs": [
    {
     "data": {
      "text/plain": [
       "np.float64(0.5378575776019476)"
      ]
     },
     "execution_count": 13,
     "metadata": {},
     "output_type": "execute_result"
    }
   ],
   "source": [
    "isFemale.mean()"
   ]
  },
  {
   "cell_type": "code",
   "execution_count": 14,
   "id": "d214232f-9264-4a88-b8be-ebf54f5943d2",
   "metadata": {},
   "outputs": [
    {
     "data": {
      "text/plain": [
       "np.float64(0.5378575776019476)"
      ]
     },
     "execution_count": 14,
     "metadata": {},
     "output_type": "execute_result"
    }
   ],
   "source": [
    "probability(isFemale)"
   ]
  },
  {
   "cell_type": "code",
   "execution_count": 15,
   "id": "8246902c-26fd-4bfa-a127-e22944f2be6d",
   "metadata": {},
   "outputs": [
    {
     "data": {
      "text/plain": [
       "0     True\n",
       "1     True\n",
       "2    False\n",
       "3     True\n",
       "4     True\n",
       "Name: sex, dtype: bool"
      ]
     },
     "execution_count": 15,
     "metadata": {},
     "output_type": "execute_result"
    }
   ],
   "source": [
    "male = (gss['sex'] == 1)\n",
    "male.head()"
   ]
  },
  {
   "cell_type": "code",
   "execution_count": 16,
   "id": "03e1b9ee-de44-42f9-9d6d-5983afe43aac",
   "metadata": {},
   "outputs": [
    {
     "data": {
      "text/plain": [
       "np.int64(22779)"
      ]
     },
     "execution_count": 16,
     "metadata": {},
     "output_type": "execute_result"
    }
   ],
   "source": [
    "male.sum()"
   ]
  },
  {
   "cell_type": "code",
   "execution_count": 17,
   "id": "35b71543-1e3b-4c75-a29f-d2bf88187238",
   "metadata": {},
   "outputs": [
    {
     "data": {
      "text/plain": [
       "np.float64(0.46214242239805237)"
      ]
     },
     "execution_count": 17,
     "metadata": {},
     "output_type": "execute_result"
    }
   ],
   "source": [
    "male.mean()"
   ]
  },
  {
   "cell_type": "code",
   "execution_count": 18,
   "id": "aab17069-0d66-49c2-8533-22b0428fa0ac",
   "metadata": {},
   "outputs": [
    {
     "data": {
      "text/plain": [
       "0    False\n",
       "1    False\n",
       "2    False\n",
       "3    False\n",
       "4    False\n",
       "Name: polviews, dtype: bool"
      ]
     },
     "execution_count": 18,
     "metadata": {},
     "output_type": "execute_result"
    }
   ],
   "source": [
    "isLiberal = (gss['polviews'] <=3)\n",
    "isLiberal.head()"
   ]
  },
  {
   "cell_type": "code",
   "execution_count": 19,
   "id": "2d86e067-9e7a-4785-8502-faa0eca9e7df",
   "metadata": {},
   "outputs": [
    {
     "data": {
      "text/plain": [
       "0    False\n",
       "1    False\n",
       "2    False\n",
       "3    False\n",
       "4    False\n",
       "Name: polviews, dtype: bool"
      ]
     },
     "execution_count": 19,
     "metadata": {},
     "output_type": "execute_result"
    }
   ],
   "source": [
    "isLiberal.head()"
   ]
  },
  {
   "cell_type": "code",
   "execution_count": 20,
   "id": "6d34b89d-e2f3-4603-8788-b69c6d73d1b0",
   "metadata": {},
   "outputs": [
    {
     "data": {
      "text/plain": [
       "np.int64(13493)"
      ]
     },
     "execution_count": 20,
     "metadata": {},
     "output_type": "execute_result"
    }
   ],
   "source": [
    "isLiberal.sum()"
   ]
  },
  {
   "cell_type": "code",
   "execution_count": 21,
   "id": "ca845d13-d47d-476e-9098-c8ee30aea2ee",
   "metadata": {},
   "outputs": [
    {
     "data": {
      "text/plain": [
       "np.float64(0.27374721038750255)"
      ]
     },
     "execution_count": 21,
     "metadata": {},
     "output_type": "execute_result"
    }
   ],
   "source": [
    "probability(isLiberal)"
   ]
  },
  {
   "cell_type": "markdown",
   "id": "4458fdee-5d36-457d-aad3-4ede1ffdad05",
   "metadata": {},
   "source": [
    "0\tStrong democrat\n",
    "1\tNot strong democrat\n",
    "2\tIndependent, near democrat\n",
    "3\tIndependent\n",
    "4\tIndependent, near republican\n",
    "5\tNot strong republican\n",
    "6\tStrong republican\n",
    "7\tOther party"
   ]
  },
  {
   "cell_type": "code",
   "execution_count": 24,
   "id": "6fc96be2-89ce-443c-afd8-8d8eacbc2984",
   "metadata": {},
   "outputs": [
    {
     "data": {
      "text/plain": [
       "0    False\n",
       "1     True\n",
       "2     True\n",
       "3    False\n",
       "4    False\n",
       "Name: partyid, dtype: bool"
      ]
     },
     "execution_count": 24,
     "metadata": {},
     "output_type": "execute_result"
    }
   ],
   "source": [
    "democrat = (gss['partyid'] <=1)\n",
    "democrat.head()"
   ]
  },
  {
   "cell_type": "code",
   "execution_count": 25,
   "id": "7e540c25-b2d9-48be-98a3-8b4b69680c1a",
   "metadata": {},
   "outputs": [
    {
     "data": {
      "text/plain": [
       "np.float64(0.3662609048488537)"
      ]
     },
     "execution_count": 25,
     "metadata": {},
     "output_type": "execute_result"
    }
   ],
   "source": [
    "probability(democrat)"
   ]
  },
  {
   "cell_type": "code",
   "execution_count": 26,
   "id": "46e323bc-5079-4681-a936-a511ca40950f",
   "metadata": {},
   "outputs": [],
   "source": [
    "# Now we will demonstrating conjunction, which states prob(A) >= prob(A and B)"
   ]
  },
  {
   "cell_type": "code",
   "execution_count": 27,
   "id": "d43d4612-46e8-4859-8603-7a4cbec54163",
   "metadata": {},
   "outputs": [
    {
     "data": {
      "text/plain": [
       "np.float64(0.014769730168391155)"
      ]
     },
     "execution_count": 27,
     "metadata": {},
     "output_type": "execute_result"
    }
   ],
   "source": [
    "probability(banker)"
   ]
  },
  {
   "cell_type": "code",
   "execution_count": 28,
   "id": "17fa81f7-3cb1-4ce4-b61c-b970dc20a365",
   "metadata": {},
   "outputs": [
    {
     "data": {
      "text/plain": [
       "np.float64(0.5378575776019476)"
      ]
     },
     "execution_count": 28,
     "metadata": {},
     "output_type": "execute_result"
    }
   ],
   "source": [
    "probability(isFemale)"
   ]
  },
  {
   "cell_type": "code",
   "execution_count": 29,
   "id": "cdf53470-7f06-45ba-bd48-135417f6f4f2",
   "metadata": {},
   "outputs": [
    {
     "data": {
      "text/plain": [
       "np.float64(0.011381618989653074)"
      ]
     },
     "execution_count": 29,
     "metadata": {},
     "output_type": "execute_result"
    }
   ],
   "source": [
    "probability(banker & isFemale)"
   ]
  },
  {
   "cell_type": "code",
   "execution_count": 30,
   "id": "07aeb853-08eb-4935-ad84-ad2e6aad3bcf",
   "metadata": {},
   "outputs": [],
   "source": [
    "# Conditional probability"
   ]
  },
  {
   "cell_type": "code",
   "execution_count": 33,
   "id": "0281a775-7dc5-40e8-a9ee-3e6527dbc1a6",
   "metadata": {},
   "outputs": [
    {
     "data": {
      "text/plain": [
       "np.float64(0.5206403320240124)"
      ]
     },
     "execution_count": 33,
     "metadata": {},
     "output_type": "execute_result"
    }
   ],
   "source": [
    "# Probability of being a democrat given that they are liberal\n",
    "\n",
    "numerator = probability(democrat & isLiberal)\n",
    "denominator = probability(isLiberal)\n",
    "\n",
    "numerator/denominator"
   ]
  },
  {
   "cell_type": "code",
   "execution_count": 34,
   "id": "4c25686c-41f5-434d-a99c-eff22019007d",
   "metadata": {},
   "outputs": [],
   "source": [
    "def conditional(proposition, given):\n",
    "    numerator = probability(proposition & given)\n",
    "    denominator = probability(given)\n",
    "\n",
    "    return (numerator/denominator)"
   ]
  },
  {
   "cell_type": "code",
   "execution_count": 35,
   "id": "8ee6821b-09a6-4ca9-b625-30396d467376",
   "metadata": {},
   "outputs": [
    {
     "data": {
      "text/plain": [
       "np.float64(0.5206403320240124)"
      ]
     },
     "execution_count": 35,
     "metadata": {},
     "output_type": "execute_result"
    }
   ],
   "source": [
    "conditional(democrat, isLiberal)"
   ]
  },
  {
   "cell_type": "code",
   "execution_count": 36,
   "id": "5728e427-50cb-48e5-80fd-27629c2e0608",
   "metadata": {},
   "outputs": [
    {
     "data": {
      "text/plain": [
       "np.float64(0.7706043956043956)"
      ]
     },
     "execution_count": 36,
     "metadata": {},
     "output_type": "execute_result"
    }
   ],
   "source": [
    "conditional(isFemale, banker)"
   ]
  },
  {
   "cell_type": "code",
   "execution_count": 37,
   "id": "d0009ed6-ca1b-4def-8074-3d4b18923ddc",
   "metadata": {},
   "outputs": [
    {
     "data": {
      "text/plain": [
       "np.float64(0.021161027498019694)"
      ]
     },
     "execution_count": 37,
     "metadata": {},
     "output_type": "execute_result"
    }
   ],
   "source": [
    "conditional(banker, isFemale)"
   ]
  },
  {
   "cell_type": "code",
   "execution_count": 38,
   "id": "1c571ed6-7ef5-4a21-8160-e918bc096a15",
   "metadata": {},
   "outputs": [],
   "source": [
    "# Most bankers are females but most females arent bankers"
   ]
  },
  {
   "cell_type": "code",
   "execution_count": 40,
   "id": "baf663c4-ecf7-40b1-a192-35e48faa61a3",
   "metadata": {},
   "outputs": [],
   "source": [
    "# Laws of total probability\n",
    "\n",
    "# P(A) = P(B1 and A) + P(B2 and A)\n",
    "# Here, B1 and B2 are mutually exclusive and collectively exhaustive"
   ]
  },
  {
   "cell_type": "code",
   "execution_count": 41,
   "id": "042c18e4-d5dc-4914-bc01-c3ef1ff9120e",
   "metadata": {},
   "outputs": [
    {
     "data": {
      "text/plain": [
       "np.float64(0.014769730168391155)"
      ]
     },
     "execution_count": 41,
     "metadata": {},
     "output_type": "execute_result"
    }
   ],
   "source": [
    "probability(banker)"
   ]
  },
  {
   "cell_type": "code",
   "execution_count": 43,
   "id": "38dc3551-6bfd-4868-af62-86ed1737521b",
   "metadata": {},
   "outputs": [
    {
     "data": {
      "text/plain": [
       "np.float64(0.014769730168391155)"
      ]
     },
     "execution_count": 43,
     "metadata": {},
     "output_type": "execute_result"
    }
   ],
   "source": [
    "prob_again = probability(isFemale & banker) + probability(male & banker)\n",
    "prob_again"
   ]
  },
  {
   "cell_type": "code",
   "execution_count": 45,
   "id": "c3c87b49-7af8-4553-954b-dcb7a5d20438",
   "metadata": {},
   "outputs": [
    {
     "data": {
      "text/plain": [
       "np.float64(0.38913200022156985)"
      ]
     },
     "execution_count": 45,
     "metadata": {},
     "output_type": "execute_result"
    }
   ],
   "source": [
    "# Exercises:\n",
    "\n",
    "prob_lib_dem = conditional(isLiberal, democrat)\n",
    "prob_lib_dem"
   ]
  },
  {
   "cell_type": "code",
   "execution_count": 46,
   "id": "e0cd9f26-0d1e-4469-9f3c-848bdb9e38b5",
   "metadata": {},
   "outputs": [],
   "source": [
    "# Linda is 31 years old, single, outspoken, and very bright. She majored in philosophy. As a student, she was deeply concerned with issues of discrimination and social justice, and also participated in anti-nuclear demonstrations. Which is more probable?\n",
    "\n",
    "# Linda is a banker.\n",
    "\n",
    "# Linda is a banker and considers herself a liberal Democrat."
   ]
  },
  {
   "cell_type": "code",
   "execution_count": 47,
   "id": "01071185-5287-4617-b999-18e79fcf0cb0",
   "metadata": {},
   "outputs": [
    {
     "data": {
      "text/plain": [
       "np.float64(0.021161027498019694)"
      ]
     },
     "execution_count": 47,
     "metadata": {},
     "output_type": "execute_result"
    }
   ],
   "source": [
    "# Linda is a female, we need to adhere to that, so to find out if linda is a banker, we actually need to find out the probability of linda \n",
    "# being a banker given that she is a female\n",
    "\n",
    "linda_banker = conditional(banker, isFemale)\n",
    "linda_banker"
   ]
  },
  {
   "cell_type": "code",
   "execution_count": 48,
   "id": "306ffe3a-e52a-49d6-92d4-a99a497b64b4",
   "metadata": {},
   "outputs": [
    {
     "data": {
      "text/plain": [
       "np.float64(0.002300931688732979)"
      ]
     },
     "execution_count": 48,
     "metadata": {},
     "output_type": "execute_result"
    }
   ],
   "source": [
    "# Again, for question 2 linda is still a female, so everything has to be applied according to that\n",
    "\n",
    "linda_second = conditional(banker & isLiberal & democrat, isFemale)\n",
    "linda_second"
   ]
  },
  {
   "cell_type": "code",
   "execution_count": 49,
   "id": "fe8e38f1-d853-4e14-8496-e863ef452a94",
   "metadata": {},
   "outputs": [
    {
     "data": {
      "text/html": [
       "<div>\n",
       "<style scoped>\n",
       "    .dataframe tbody tr th:only-of-type {\n",
       "        vertical-align: middle;\n",
       "    }\n",
       "\n",
       "    .dataframe tbody tr th {\n",
       "        vertical-align: top;\n",
       "    }\n",
       "\n",
       "    .dataframe thead th {\n",
       "        text-align: right;\n",
       "    }\n",
       "</style>\n",
       "<table border=\"1\" class=\"dataframe\">\n",
       "  <thead>\n",
       "    <tr style=\"text-align: right;\">\n",
       "      <th></th>\n",
       "      <th>caseid</th>\n",
       "      <th>year</th>\n",
       "      <th>age</th>\n",
       "      <th>sex</th>\n",
       "      <th>polviews</th>\n",
       "      <th>partyid</th>\n",
       "      <th>indus10</th>\n",
       "    </tr>\n",
       "  </thead>\n",
       "  <tbody>\n",
       "    <tr>\n",
       "      <th>0</th>\n",
       "      <td>1</td>\n",
       "      <td>1974</td>\n",
       "      <td>21.0</td>\n",
       "      <td>1</td>\n",
       "      <td>4.0</td>\n",
       "      <td>2.0</td>\n",
       "      <td>4970.0</td>\n",
       "    </tr>\n",
       "    <tr>\n",
       "      <th>1</th>\n",
       "      <td>2</td>\n",
       "      <td>1974</td>\n",
       "      <td>41.0</td>\n",
       "      <td>1</td>\n",
       "      <td>5.0</td>\n",
       "      <td>0.0</td>\n",
       "      <td>9160.0</td>\n",
       "    </tr>\n",
       "    <tr>\n",
       "      <th>2</th>\n",
       "      <td>5</td>\n",
       "      <td>1974</td>\n",
       "      <td>58.0</td>\n",
       "      <td>2</td>\n",
       "      <td>6.0</td>\n",
       "      <td>1.0</td>\n",
       "      <td>2670.0</td>\n",
       "    </tr>\n",
       "    <tr>\n",
       "      <th>3</th>\n",
       "      <td>6</td>\n",
       "      <td>1974</td>\n",
       "      <td>30.0</td>\n",
       "      <td>1</td>\n",
       "      <td>5.0</td>\n",
       "      <td>4.0</td>\n",
       "      <td>6870.0</td>\n",
       "    </tr>\n",
       "    <tr>\n",
       "      <th>4</th>\n",
       "      <td>7</td>\n",
       "      <td>1974</td>\n",
       "      <td>48.0</td>\n",
       "      <td>1</td>\n",
       "      <td>5.0</td>\n",
       "      <td>4.0</td>\n",
       "      <td>7860.0</td>\n",
       "    </tr>\n",
       "  </tbody>\n",
       "</table>\n",
       "</div>"
      ],
      "text/plain": [
       "   caseid  year   age  sex  polviews  partyid  indus10\n",
       "0       1  1974  21.0    1       4.0      2.0   4970.0\n",
       "1       2  1974  41.0    1       5.0      0.0   9160.0\n",
       "2       5  1974  58.0    2       6.0      1.0   2670.0\n",
       "3       6  1974  30.0    1       5.0      4.0   6870.0\n",
       "4       7  1974  48.0    1       5.0      4.0   7860.0"
      ]
     },
     "execution_count": 49,
     "metadata": {},
     "output_type": "execute_result"
    }
   ],
   "source": [
    "# If you are not a liberal at 25, you have no heart. If you are not a conservative at 35, you have no brain.\n",
    "# Now we take out probabilites of this quote\n",
    "\n",
    "gss.head()"
   ]
  },
  {
   "cell_type": "code",
   "execution_count": 50,
   "id": "3cd93437-1274-4ded-967b-95087ed5568e",
   "metadata": {},
   "outputs": [
    {
     "data": {
      "text/plain": [
       "np.float64(0.10846013390139987)"
      ]
     },
     "execution_count": 50,
     "metadata": {},
     "output_type": "execute_result"
    }
   ],
   "source": [
    "young_people = (gss['age'] <=25)\n",
    "\n",
    "probability(young_people)"
   ]
  },
  {
   "cell_type": "code",
   "execution_count": 51,
   "id": "6fb11899-ec26-45c1-956c-fd8a2367b663",
   "metadata": {},
   "outputs": [
    {
     "data": {
      "text/plain": [
       "np.float64(0.6944410630959627)"
      ]
     },
     "execution_count": 51,
     "metadata": {},
     "output_type": "execute_result"
    }
   ],
   "source": [
    "old_people = (gss['age'] >= 35)\n",
    "probability(old_people)"
   ]
  },
  {
   "cell_type": "code",
   "execution_count": null,
   "id": "1e74192f-984c-4992-a741-d8e770df7406",
   "metadata": {},
   "outputs": [],
   "source": [
    "# Probability the young people have no heart:\n",
    "\n",
    "no_heart_young = conditional("
   ]
  }
 ],
 "metadata": {
  "kernelspec": {
   "display_name": "Python 3 (ipykernel)",
   "language": "python",
   "name": "python3"
  },
  "language_info": {
   "codemirror_mode": {
    "name": "ipython",
    "version": 3
   },
   "file_extension": ".py",
   "mimetype": "text/x-python",
   "name": "python",
   "nbconvert_exporter": "python",
   "pygments_lexer": "ipython3",
   "version": "3.13.5"
  }
 },
 "nbformat": 4,
 "nbformat_minor": 5
}
